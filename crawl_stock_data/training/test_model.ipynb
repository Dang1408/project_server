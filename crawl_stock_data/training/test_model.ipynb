{
 "cells": [
  {
   "cell_type": "code",
   "execution_count": 1,
   "outputs": [],
   "source": [
    "# Bring your packages onto the path\n",
    "\n",
    "from crawl_stock_data.service import process_data_service\n",
    "import joblib\n",
    "import pandas as pd\n",
    "import numpy as np\n",
    "import matplotlib.pyplot as plt\n",
    "import pandas_ta as ta\n",
    "from pandas.plotting import register_matplotlib_converters\n",
    "import warnings\n",
    "\n",
    "warnings.filterwarnings('ignore')\n",
    "register_matplotlib_converters()\n",
    "%matplotlib inline"
   ],
   "metadata": {
    "collapsed": false,
    "ExecuteTime": {
     "end_time": "2023-08-19T17:13:53.885542703Z",
     "start_time": "2023-08-19T17:13:53.329981785Z"
    }
   },
   "id": "1fafac5089228be4"
  },
  {
   "cell_type": "code",
   "execution_count": 56,
   "outputs": [
    {
     "data": {
      "text/plain": "         Date      open      high       low     close       volume  adj_close  \\\n0  2005-01-10  4.867367  4.957457  4.800551  4.881381  301282416.0   4.881381   \n1  2005-01-11  4.895395  4.947698  4.834334  4.843343  278069652.0   4.843343   \n2  2005-01-12  4.863113  4.903153  4.767267  4.889389  326784888.0   4.889389   \n\n     NATR_3      RSI_3      ADX_3  ...  BBM_3_2.0  BBU_3_2.0  BBB_3_2.0  \\\n0  3.297238  58.767641  42.870467  ...   4.816983   4.958482   5.874972   \n1  2.831877  48.714336  37.850269  ...   4.858608   4.891431   1.351113   \n2  2.792202  60.869291  34.702612  ...   4.871371   4.911544   1.649371   \n\n   BBP_3_2.0  min_price_3  max_price_3  mid_price    tema_2    tema_8  \\\n0   0.727556     4.697698     4.957457   4.879004  4.883820  4.850060   \n1   0.267455     4.724224     4.957457   4.891016  4.848029  4.842952   \n2   0.724253     4.767267     4.957457   4.835210  4.887231  4.862860   \n\n   tema_100  \n0  3.863238  \n1  3.920317  \n2  3.977832  \n\n[3 rows x 28 columns]",
      "text/html": "<div>\n<style scoped>\n    .dataframe tbody tr th:only-of-type {\n        vertical-align: middle;\n    }\n\n    .dataframe tbody tr th {\n        vertical-align: top;\n    }\n\n    .dataframe thead th {\n        text-align: right;\n    }\n</style>\n<table border=\"1\" class=\"dataframe\">\n  <thead>\n    <tr style=\"text-align: right;\">\n      <th></th>\n      <th>Date</th>\n      <th>open</th>\n      <th>high</th>\n      <th>low</th>\n      <th>close</th>\n      <th>volume</th>\n      <th>adj_close</th>\n      <th>NATR_3</th>\n      <th>RSI_3</th>\n      <th>ADX_3</th>\n      <th>...</th>\n      <th>BBM_3_2.0</th>\n      <th>BBU_3_2.0</th>\n      <th>BBB_3_2.0</th>\n      <th>BBP_3_2.0</th>\n      <th>min_price_3</th>\n      <th>max_price_3</th>\n      <th>mid_price</th>\n      <th>tema_2</th>\n      <th>tema_8</th>\n      <th>tema_100</th>\n    </tr>\n  </thead>\n  <tbody>\n    <tr>\n      <th>0</th>\n      <td>2005-01-10</td>\n      <td>4.867367</td>\n      <td>4.957457</td>\n      <td>4.800551</td>\n      <td>4.881381</td>\n      <td>301282416.0</td>\n      <td>4.881381</td>\n      <td>3.297238</td>\n      <td>58.767641</td>\n      <td>42.870467</td>\n      <td>...</td>\n      <td>4.816983</td>\n      <td>4.958482</td>\n      <td>5.874972</td>\n      <td>0.727556</td>\n      <td>4.697698</td>\n      <td>4.957457</td>\n      <td>4.879004</td>\n      <td>4.883820</td>\n      <td>4.850060</td>\n      <td>3.863238</td>\n    </tr>\n    <tr>\n      <th>1</th>\n      <td>2005-01-11</td>\n      <td>4.895395</td>\n      <td>4.947698</td>\n      <td>4.834334</td>\n      <td>4.843343</td>\n      <td>278069652.0</td>\n      <td>4.843343</td>\n      <td>2.831877</td>\n      <td>48.714336</td>\n      <td>37.850269</td>\n      <td>...</td>\n      <td>4.858608</td>\n      <td>4.891431</td>\n      <td>1.351113</td>\n      <td>0.267455</td>\n      <td>4.724224</td>\n      <td>4.957457</td>\n      <td>4.891016</td>\n      <td>4.848029</td>\n      <td>4.842952</td>\n      <td>3.920317</td>\n    </tr>\n    <tr>\n      <th>2</th>\n      <td>2005-01-12</td>\n      <td>4.863113</td>\n      <td>4.903153</td>\n      <td>4.767267</td>\n      <td>4.889389</td>\n      <td>326784888.0</td>\n      <td>4.889389</td>\n      <td>2.792202</td>\n      <td>60.869291</td>\n      <td>34.702612</td>\n      <td>...</td>\n      <td>4.871371</td>\n      <td>4.911544</td>\n      <td>1.649371</td>\n      <td>0.724253</td>\n      <td>4.767267</td>\n      <td>4.957457</td>\n      <td>4.835210</td>\n      <td>4.887231</td>\n      <td>4.862860</td>\n      <td>3.977832</td>\n    </tr>\n  </tbody>\n</table>\n<p>3 rows × 28 columns</p>\n</div>"
     },
     "execution_count": 56,
     "metadata": {},
     "output_type": "execute_result"
    }
   ],
   "source": [
    "#get the dataset from the csv file into df\n",
    "\n",
    "stock_name = 'GOOGL'\n",
    "df = process_data(stock_name)\n",
    "df.head(3)"
   ],
   "metadata": {
    "collapsed": false,
    "ExecuteTime": {
     "end_time": "2023-08-03T08:32:23.551969695Z",
     "start_time": "2023-08-03T08:32:23.513349609Z"
    }
   },
   "id": "4defb34cdc68ba49"
  },
  {
   "cell_type": "code",
   "execution_count": 57,
   "outputs": [
    {
     "data": {
      "text/plain": "            date        open        high         low       close      volume  \\\n4670  2023-08-01  130.779999  132.630005  130.679993  131.550003  23166800.0   \n4671  2023-08-02  129.449997  130.089996  127.559998  128.380005  26244300.0   \n\n       adj_close    NATR_3      RSI_3      ADX_3  ...   BBM_3_2.0   BBU_3_2.0  \\\n4670  131.550003  2.002916  70.580813  60.694002  ...  132.283335  133.326704   \n4671  128.380005  2.580169  34.747437  53.121827  ...  130.883336  134.550206   \n\n      BBB_3_2.0  BBP_3_2.0  min_price_3  max_price_3   mid_price      tema_2  \\\n4670   1.577476   0.148575   130.570007   133.740005  131.654999  131.604447   \n4671   5.603265   0.158656   127.559998   133.529999  128.824997  128.425960   \n\n          tema_8    tema_100  \n4670  133.172458  129.677020  \n4671  131.450224  129.966347  \n\n[2 rows x 28 columns]",
      "text/html": "<div>\n<style scoped>\n    .dataframe tbody tr th:only-of-type {\n        vertical-align: middle;\n    }\n\n    .dataframe tbody tr th {\n        vertical-align: top;\n    }\n\n    .dataframe thead th {\n        text-align: right;\n    }\n</style>\n<table border=\"1\" class=\"dataframe\">\n  <thead>\n    <tr style=\"text-align: right;\">\n      <th></th>\n      <th>date</th>\n      <th>open</th>\n      <th>high</th>\n      <th>low</th>\n      <th>close</th>\n      <th>volume</th>\n      <th>adj_close</th>\n      <th>NATR_3</th>\n      <th>RSI_3</th>\n      <th>ADX_3</th>\n      <th>...</th>\n      <th>BBM_3_2.0</th>\n      <th>BBU_3_2.0</th>\n      <th>BBB_3_2.0</th>\n      <th>BBP_3_2.0</th>\n      <th>min_price_3</th>\n      <th>max_price_3</th>\n      <th>mid_price</th>\n      <th>tema_2</th>\n      <th>tema_8</th>\n      <th>tema_100</th>\n    </tr>\n  </thead>\n  <tbody>\n    <tr>\n      <th>4670</th>\n      <td>2023-08-01</td>\n      <td>130.779999</td>\n      <td>132.630005</td>\n      <td>130.679993</td>\n      <td>131.550003</td>\n      <td>23166800.0</td>\n      <td>131.550003</td>\n      <td>2.002916</td>\n      <td>70.580813</td>\n      <td>60.694002</td>\n      <td>...</td>\n      <td>132.283335</td>\n      <td>133.326704</td>\n      <td>1.577476</td>\n      <td>0.148575</td>\n      <td>130.570007</td>\n      <td>133.740005</td>\n      <td>131.654999</td>\n      <td>131.604447</td>\n      <td>133.172458</td>\n      <td>129.677020</td>\n    </tr>\n    <tr>\n      <th>4671</th>\n      <td>2023-08-02</td>\n      <td>129.449997</td>\n      <td>130.089996</td>\n      <td>127.559998</td>\n      <td>128.380005</td>\n      <td>26244300.0</td>\n      <td>128.380005</td>\n      <td>2.580169</td>\n      <td>34.747437</td>\n      <td>53.121827</td>\n      <td>...</td>\n      <td>130.883336</td>\n      <td>134.550206</td>\n      <td>5.603265</td>\n      <td>0.158656</td>\n      <td>127.559998</td>\n      <td>133.529999</td>\n      <td>128.824997</td>\n      <td>128.425960</td>\n      <td>131.450224</td>\n      <td>129.966347</td>\n    </tr>\n  </tbody>\n</table>\n<p>2 rows × 28 columns</p>\n</div>"
     },
     "execution_count": 57,
     "metadata": {},
     "output_type": "execute_result"
    }
   ],
   "source": [
    "#rename the column in df\n",
    "df = df.rename(columns={'Volume': 'volume',\n",
    "                        'Open': 'open', 'High': 'high',\n",
    "                        'Low': 'low', 'Close': 'close', 'Date': 'date'})\n",
    "df.tail(2)"
   ],
   "metadata": {
    "collapsed": false,
    "ExecuteTime": {
     "end_time": "2023-08-03T08:32:24.294333317Z",
     "start_time": "2023-08-03T08:32:24.264942656Z"
    }
   },
   "id": "8122c483d860dea7"
  },
  {
   "cell_type": "code",
   "execution_count": 58,
   "outputs": [
    {
     "name": "stdout",
     "output_type": "stream",
     "text": [
      "4672\n"
     ]
    },
    {
     "data": {
      "text/plain": "                  date        open        high         low       close  \\\ndate                                                                     \n2023-07-31  2023-07-31  132.729996  133.529999  131.779999  132.720001   \n2023-08-01  2023-08-01  130.779999  132.630005  130.679993  131.550003   \n2023-08-02  2023-08-02  129.449997  130.089996  127.559998  128.380005   \n\n                volume   adj_close    NATR_3      RSI_3      ADX_3  ...  \\\ndate                                                                ...   \n2023-07-31  28055500.0  132.720001  2.433442  94.580197  73.628372  ...   \n2023-08-01  23166800.0  131.550003  2.002916  70.580813  60.694002  ...   \n2023-08-02  26244300.0  128.380005  2.580169  34.747437  53.121827  ...   \n\n             BBM_3_2.0   BBU_3_2.0  BBB_3_2.0  BBP_3_2.0  min_price_3  \\\ndate                                                                    \n2023-07-31  131.566666  134.632934   4.661162   0.688068   128.789993   \n2023-08-01  132.283335  133.326704   1.577476   0.148575   130.570007   \n2023-08-02  130.883336  134.550206   5.603265   0.158656   127.559998   \n\n            max_price_3   mid_price      tema_2      tema_8    tema_100  \ndate                                                                     \n2023-07-31   133.740005  132.654999  132.818988  132.926914  129.178233  \n2023-08-01   133.740005  131.654999  131.604447  133.172458  129.677020  \n2023-08-02   133.529999  128.824997  128.425960  131.450224  129.966347  \n\n[3 rows x 28 columns]",
      "text/html": "<div>\n<style scoped>\n    .dataframe tbody tr th:only-of-type {\n        vertical-align: middle;\n    }\n\n    .dataframe tbody tr th {\n        vertical-align: top;\n    }\n\n    .dataframe thead th {\n        text-align: right;\n    }\n</style>\n<table border=\"1\" class=\"dataframe\">\n  <thead>\n    <tr style=\"text-align: right;\">\n      <th></th>\n      <th>date</th>\n      <th>open</th>\n      <th>high</th>\n      <th>low</th>\n      <th>close</th>\n      <th>volume</th>\n      <th>adj_close</th>\n      <th>NATR_3</th>\n      <th>RSI_3</th>\n      <th>ADX_3</th>\n      <th>...</th>\n      <th>BBM_3_2.0</th>\n      <th>BBU_3_2.0</th>\n      <th>BBB_3_2.0</th>\n      <th>BBP_3_2.0</th>\n      <th>min_price_3</th>\n      <th>max_price_3</th>\n      <th>mid_price</th>\n      <th>tema_2</th>\n      <th>tema_8</th>\n      <th>tema_100</th>\n    </tr>\n    <tr>\n      <th>date</th>\n      <th></th>\n      <th></th>\n      <th></th>\n      <th></th>\n      <th></th>\n      <th></th>\n      <th></th>\n      <th></th>\n      <th></th>\n      <th></th>\n      <th></th>\n      <th></th>\n      <th></th>\n      <th></th>\n      <th></th>\n      <th></th>\n      <th></th>\n      <th></th>\n      <th></th>\n      <th></th>\n      <th></th>\n    </tr>\n  </thead>\n  <tbody>\n    <tr>\n      <th>2023-07-31</th>\n      <td>2023-07-31</td>\n      <td>132.729996</td>\n      <td>133.529999</td>\n      <td>131.779999</td>\n      <td>132.720001</td>\n      <td>28055500.0</td>\n      <td>132.720001</td>\n      <td>2.433442</td>\n      <td>94.580197</td>\n      <td>73.628372</td>\n      <td>...</td>\n      <td>131.566666</td>\n      <td>134.632934</td>\n      <td>4.661162</td>\n      <td>0.688068</td>\n      <td>128.789993</td>\n      <td>133.740005</td>\n      <td>132.654999</td>\n      <td>132.818988</td>\n      <td>132.926914</td>\n      <td>129.178233</td>\n    </tr>\n    <tr>\n      <th>2023-08-01</th>\n      <td>2023-08-01</td>\n      <td>130.779999</td>\n      <td>132.630005</td>\n      <td>130.679993</td>\n      <td>131.550003</td>\n      <td>23166800.0</td>\n      <td>131.550003</td>\n      <td>2.002916</td>\n      <td>70.580813</td>\n      <td>60.694002</td>\n      <td>...</td>\n      <td>132.283335</td>\n      <td>133.326704</td>\n      <td>1.577476</td>\n      <td>0.148575</td>\n      <td>130.570007</td>\n      <td>133.740005</td>\n      <td>131.654999</td>\n      <td>131.604447</td>\n      <td>133.172458</td>\n      <td>129.677020</td>\n    </tr>\n    <tr>\n      <th>2023-08-02</th>\n      <td>2023-08-02</td>\n      <td>129.449997</td>\n      <td>130.089996</td>\n      <td>127.559998</td>\n      <td>128.380005</td>\n      <td>26244300.0</td>\n      <td>128.380005</td>\n      <td>2.580169</td>\n      <td>34.747437</td>\n      <td>53.121827</td>\n      <td>...</td>\n      <td>130.883336</td>\n      <td>134.550206</td>\n      <td>5.603265</td>\n      <td>0.158656</td>\n      <td>127.559998</td>\n      <td>133.529999</td>\n      <td>128.824997</td>\n      <td>128.425960</td>\n      <td>131.450224</td>\n      <td>129.966347</td>\n    </tr>\n  </tbody>\n</table>\n<p>3 rows × 28 columns</p>\n</div>"
     },
     "execution_count": 58,
     "metadata": {},
     "output_type": "execute_result"
    }
   ],
   "source": [
    "#Change the type of the date column from object to datetime in df\n",
    "\n",
    "df['date'] = pd.to_datetime(df['date'], utc=True)\n",
    "df[\"date\"] = df[\"date\"].dt.strftime(\"%Y-%m-%d\")\n",
    "df.index = pd.DatetimeIndex(df[\"date\"])  #assign the changed column to the index\n",
    "df.sort_index(inplace=True)\n",
    "df = df.loc['1981-05-06':]\n",
    "print(len(df))\n",
    "df.last('3D')"
   ],
   "metadata": {
    "collapsed": false,
    "ExecuteTime": {
     "end_time": "2023-08-03T08:32:24.866872274Z",
     "start_time": "2023-08-03T08:32:24.858168150Z"
    }
   },
   "id": "c184f682ec4a32d0"
  },
  {
   "cell_type": "code",
   "execution_count": 59,
   "outputs": [
    {
     "data": {
      "text/plain": "open             0\nhigh             0\nlow              0\nclose            0\nvolume           0\nadj_close        0\nNATR_3           0\nRSI_3            0\nADX_3            0\nCCI_3_0.015      0\nROC_3            0\nSTOCHk_14_3_3    0\nSTOCHd_14_3_3    0\nWILLR_3          0\nOBV              0\nMACD_12_26_9     0\nBBL_3_2.0        0\nBBM_3_2.0        0\nBBU_3_2.0        0\nBBB_3_2.0        0\nBBP_3_2.0        0\nmin_price_3      0\nmax_price_3      0\nmid_price        0\ntema_2           0\ntema_8           0\ntema_100         0\ndtype: int64"
     },
     "execution_count": 59,
     "metadata": {},
     "output_type": "execute_result"
    }
   ],
   "source": [
    "#drop column date if it exists in df\n",
    "\n",
    "if 'date' in df.columns:\n",
    "    df.drop(['date'], axis=1, inplace=True)\n",
    "\n",
    "#check for null values in df\n",
    "df.isnull().sum()"
   ],
   "metadata": {
    "collapsed": false,
    "ExecuteTime": {
     "end_time": "2023-08-03T08:32:25.635603840Z",
     "start_time": "2023-08-03T08:32:25.624587331Z"
    }
   },
   "id": "6092379aa2106c78"
  },
  {
   "cell_type": "code",
   "execution_count": 60,
   "outputs": [
    {
     "data": {
      "text/plain": "DatetimeIndex(['2013-01-02', '2013-01-03', '2013-01-04', '2013-01-07',\n               '2013-01-08', '2013-01-09', '2013-01-10', '2013-01-11',\n               '2013-01-14', '2013-01-15',\n               ...\n               '2023-07-20', '2023-07-21', '2023-07-24', '2023-07-25',\n               '2023-07-26', '2023-07-27', '2023-07-28', '2023-07-31',\n               '2023-08-01', '2023-08-02'],\n              dtype='datetime64[ns]', name='date', length=2664, freq=None)"
     },
     "execution_count": 60,
     "metadata": {},
     "output_type": "execute_result"
    }
   ],
   "source": [
    "df['open'] = df['open'].astype(float)\n",
    "df['high'] = df['high'].astype(float)\n",
    "df['low'] = df['low'].astype(float)\n",
    "df['close'] = df['close'].astype(float)\n",
    "df['volume'] = df['volume'].astype(float)\n",
    "###get the dataset of apple stock from 2013-01-01 to 2023-06-01 from df\n",
    "df = df.loc['2013-01-01':]\n",
    "df.index"
   ],
   "metadata": {
    "collapsed": false,
    "ExecuteTime": {
     "end_time": "2023-08-03T08:32:26.277576746Z",
     "start_time": "2023-08-03T08:32:26.269498468Z"
    }
   },
   "id": "6accf1278656683e"
  },
  {
   "cell_type": "code",
   "execution_count": 61,
   "outputs": [
    {
     "data": {
      "text/plain": "open             0\nhigh             0\nlow              0\nclose            0\nvolume           0\nadj_close        0\nNATR_3           0\nRSI_3            0\nADX_3            0\nCCI_3_0.015      0\nROC_3            0\nSTOCHk_14_3_3    0\nSTOCHd_14_3_3    0\nWILLR_3          0\nOBV              0\nMACD_12_26_9     0\nBBL_3_2.0        0\nBBM_3_2.0        0\nBBU_3_2.0        0\nBBB_3_2.0        0\nBBP_3_2.0        0\nmin_price_3      0\nmax_price_3      0\nmid_price        0\ntema_2           0\ntema_8           0\ntema_100         0\nNext date        1\ndtype: int64"
     },
     "execution_count": 61,
     "metadata": {},
     "output_type": "execute_result"
    }
   ],
   "source": [
    "#We need to restructure the data set by adding a target column ‘Actual’, which will the stock prices for the next day.\n",
    "\n",
    "steps = -1\n",
    "main_dataset = df.copy()\n",
    "main_dataset['Next date'] = main_dataset['close'].shift(steps)\n",
    "main_dataset.last('3D')\n",
    "main_dataset.isnull().sum()"
   ],
   "metadata": {
    "collapsed": false,
    "ExecuteTime": {
     "end_time": "2023-08-03T08:32:27.069114681Z",
     "start_time": "2023-08-03T08:32:27.056474618Z"
    }
   },
   "id": "1bd238122ec35f36"
  },
  {
   "cell_type": "code",
   "execution_count": 62,
   "outputs": [
    {
     "data": {
      "text/plain": "                  open        high         low       close      volume  \\\ndate                                                                     \n2023-07-31  132.729996  133.529999  131.779999  132.720001  28055500.0   \n2023-08-01  130.779999  132.630005  130.679993  131.550003  23166800.0   \n\n             adj_close    NATR_3      RSI_3      ADX_3  CCI_3_0.015  ...  \\\ndate                                                                 ...   \n2023-07-31  132.720001  2.433442  94.580197  73.628372    64.178874  ...   \n2023-08-01  131.550003  2.002916  70.580813  60.694002  -100.000000  ...   \n\n             BBU_3_2.0  BBB_3_2.0  BBP_3_2.0  min_price_3  max_price_3  \\\ndate                                                                     \n2023-07-31  134.632934   4.661162   0.688068   128.789993   133.740005   \n2023-08-01  133.326704   1.577476   0.148575   130.570007   133.740005   \n\n             mid_price      tema_2      tema_8    tema_100   Next date  \ndate                                                                    \n2023-07-31  132.654999  132.818988  132.926914  129.178233  131.550003  \n2023-08-01  131.654999  131.604447  133.172458  129.677020  128.380005  \n\n[2 rows x 28 columns]",
      "text/html": "<div>\n<style scoped>\n    .dataframe tbody tr th:only-of-type {\n        vertical-align: middle;\n    }\n\n    .dataframe tbody tr th {\n        vertical-align: top;\n    }\n\n    .dataframe thead th {\n        text-align: right;\n    }\n</style>\n<table border=\"1\" class=\"dataframe\">\n  <thead>\n    <tr style=\"text-align: right;\">\n      <th></th>\n      <th>open</th>\n      <th>high</th>\n      <th>low</th>\n      <th>close</th>\n      <th>volume</th>\n      <th>adj_close</th>\n      <th>NATR_3</th>\n      <th>RSI_3</th>\n      <th>ADX_3</th>\n      <th>CCI_3_0.015</th>\n      <th>...</th>\n      <th>BBU_3_2.0</th>\n      <th>BBB_3_2.0</th>\n      <th>BBP_3_2.0</th>\n      <th>min_price_3</th>\n      <th>max_price_3</th>\n      <th>mid_price</th>\n      <th>tema_2</th>\n      <th>tema_8</th>\n      <th>tema_100</th>\n      <th>Next date</th>\n    </tr>\n    <tr>\n      <th>date</th>\n      <th></th>\n      <th></th>\n      <th></th>\n      <th></th>\n      <th></th>\n      <th></th>\n      <th></th>\n      <th></th>\n      <th></th>\n      <th></th>\n      <th></th>\n      <th></th>\n      <th></th>\n      <th></th>\n      <th></th>\n      <th></th>\n      <th></th>\n      <th></th>\n      <th></th>\n      <th></th>\n      <th></th>\n    </tr>\n  </thead>\n  <tbody>\n    <tr>\n      <th>2023-07-31</th>\n      <td>132.729996</td>\n      <td>133.529999</td>\n      <td>131.779999</td>\n      <td>132.720001</td>\n      <td>28055500.0</td>\n      <td>132.720001</td>\n      <td>2.433442</td>\n      <td>94.580197</td>\n      <td>73.628372</td>\n      <td>64.178874</td>\n      <td>...</td>\n      <td>134.632934</td>\n      <td>4.661162</td>\n      <td>0.688068</td>\n      <td>128.789993</td>\n      <td>133.740005</td>\n      <td>132.654999</td>\n      <td>132.818988</td>\n      <td>132.926914</td>\n      <td>129.178233</td>\n      <td>131.550003</td>\n    </tr>\n    <tr>\n      <th>2023-08-01</th>\n      <td>130.779999</td>\n      <td>132.630005</td>\n      <td>130.679993</td>\n      <td>131.550003</td>\n      <td>23166800.0</td>\n      <td>131.550003</td>\n      <td>2.002916</td>\n      <td>70.580813</td>\n      <td>60.694002</td>\n      <td>-100.000000</td>\n      <td>...</td>\n      <td>133.326704</td>\n      <td>1.577476</td>\n      <td>0.148575</td>\n      <td>130.570007</td>\n      <td>133.740005</td>\n      <td>131.654999</td>\n      <td>131.604447</td>\n      <td>133.172458</td>\n      <td>129.677020</td>\n      <td>128.380005</td>\n    </tr>\n  </tbody>\n</table>\n<p>2 rows × 28 columns</p>\n</div>"
     },
     "execution_count": 62,
     "metadata": {},
     "output_type": "execute_result"
    }
   ],
   "source": [
    "##dropping columns with null values in dataset_for_prediction\n",
    "\n",
    "main_dataset.dropna(inplace=True)\n",
    "main_dataset.last('3D')"
   ],
   "metadata": {
    "collapsed": false,
    "ExecuteTime": {
     "end_time": "2023-08-03T08:32:27.774360905Z",
     "start_time": "2023-08-03T08:32:27.750761714Z"
    }
   },
   "id": "26f3c7ffbedb5ea8"
  },
  {
   "cell_type": "code",
   "execution_count": 63,
   "outputs": [],
   "source": [
    "#splitting the data into training and test sets\n",
    "\n",
    "train_df = main_dataset[:'2022-12-30']\n",
    "test_df = main_dataset['2023-01-01':]"
   ],
   "metadata": {
    "collapsed": false,
    "ExecuteTime": {
     "end_time": "2023-08-03T08:32:28.568923978Z",
     "start_time": "2023-08-03T08:32:28.540096442Z"
    }
   },
   "id": "baf18300f3c950ad"
  },
  {
   "cell_type": "code",
   "execution_count": 64,
   "outputs": [
    {
     "data": {
      "text/plain": "                   low        high        open       close      volume  \\\ndate                                                                     \n2023-07-19  121.800003  125.180000  124.599998  122.029999  37224000.0   \n2023-07-20  118.220001  124.089996  121.419998  119.199997  37906800.0   \n2023-07-21  118.730003  120.989998  120.620003  120.019997  72937900.0   \n2023-07-24  120.980003  123.000000  121.660004  121.529999  29686100.0   \n2023-07-25  121.019997  123.150002  121.360001  122.209999  52509600.0   \n2023-07-26  128.320007  130.979996  130.070007  129.270004  61682100.0   \n2023-07-27  128.789993  133.240005  131.669998  129.399994  44952100.0   \n2023-07-28  130.570007  133.740005  130.779999  132.580002  36591200.0   \n2023-07-31  131.779999  133.529999  132.729996  132.720001  28055500.0   \n2023-08-01  130.679993  132.630005  130.779999  131.550003  23166800.0   \n\n              NATR_3      RSI_3      ADX_3  CCI_3_0.015     ROC_3  ...  \\\ndate                                                               ...   \n2023-07-19  2.427984  36.933985  35.055744   -81.201063 -2.702918  ...   \n2023-07-20  3.705061  19.281771  42.694503  -100.000000 -4.372246  ...   \n2023-07-21  2.781381  33.165125  47.787009   -65.831801 -3.021982  ...   \n2023-07-24  2.599447  54.691052  34.207433   100.000000 -0.409735  ...   \n2023-07-25  2.163945  62.787130  26.519069    60.515651  2.525170  ...   \n2023-07-26  4.415005  90.162544  44.354743   100.000000  7.707055  ...   \n2023-07-27  3.924764  90.358433  57.918274    59.081239  6.475763  ...   \n2023-07-28  3.552065  94.429088  67.344333   100.000000  8.485396  ...   \n2023-07-31  2.433442  94.580197  73.628372    64.178874  2.668830  ...   \n2023-08-01  2.002916  70.580813  60.694002  -100.000000  1.661522  ...   \n\n             BBM_3_2.0   BBU_3_2.0  BBB_3_2.0  BBP_3_2.0  min_price_3  \\\ndate                                                                    \n2023-07-19  123.480001  125.655565   3.523751   0.166753   121.800003   \n2023-07-20  121.663333  125.422497   6.179618   0.172356   118.220001   \n2023-07-21  120.416664  122.794471   3.949298   0.416590   118.220001   \n2023-07-24  120.249997  122.180042   3.210054   0.831599   118.220001   \n2023-07-25  121.253332  123.083768   3.019193   0.761322   118.730003   \n2023-07-26  124.336667  131.335517  11.257901   0.852439   120.980003   \n2023-07-27  126.959999  133.678352  10.583417   0.681592   121.019997   \n2023-07-28  130.416667  133.477925   4.694582   0.853341   128.320007   \n2023-07-31  131.566666  134.632934   4.661162   0.688068   128.789993   \n2023-08-01  132.283335  133.326704   1.577476   0.148575   130.570007   \n\n            max_price_3   mid_price      tema_2    tema_100      tema_8  \ndate                                                                     \n2023-07-19   127.099998  123.490002  122.023657  127.092154  123.847177  \n2023-07-20   125.180000  121.154999  119.206784  126.993906  121.669975  \n2023-07-21   125.180000  119.860001  119.853145  126.942148  120.759212  \n2023-07-24   124.089996  121.990002  121.470280  126.975314  121.019978  \n2023-07-25   123.150002  122.084999  122.262445  127.041794  121.555730  \n2023-07-26   130.979996  129.650002  129.069140  127.511877  125.624413  \n2023-07-27   133.240005  131.014999  129.672399  127.966136  128.103488  \n2023-07-28   133.740005  132.155006  132.551674  128.582751  131.167374  \n2023-07-31   133.740005  132.654999  132.818988  129.178233  132.926914  \n2023-08-01   133.740005  131.654999  131.604447  129.677020  133.172458  \n\n[10 rows x 26 columns]",
      "text/html": "<div>\n<style scoped>\n    .dataframe tbody tr th:only-of-type {\n        vertical-align: middle;\n    }\n\n    .dataframe tbody tr th {\n        vertical-align: top;\n    }\n\n    .dataframe thead th {\n        text-align: right;\n    }\n</style>\n<table border=\"1\" class=\"dataframe\">\n  <thead>\n    <tr style=\"text-align: right;\">\n      <th></th>\n      <th>low</th>\n      <th>high</th>\n      <th>open</th>\n      <th>close</th>\n      <th>volume</th>\n      <th>NATR_3</th>\n      <th>RSI_3</th>\n      <th>ADX_3</th>\n      <th>CCI_3_0.015</th>\n      <th>ROC_3</th>\n      <th>...</th>\n      <th>BBM_3_2.0</th>\n      <th>BBU_3_2.0</th>\n      <th>BBB_3_2.0</th>\n      <th>BBP_3_2.0</th>\n      <th>min_price_3</th>\n      <th>max_price_3</th>\n      <th>mid_price</th>\n      <th>tema_2</th>\n      <th>tema_100</th>\n      <th>tema_8</th>\n    </tr>\n    <tr>\n      <th>date</th>\n      <th></th>\n      <th></th>\n      <th></th>\n      <th></th>\n      <th></th>\n      <th></th>\n      <th></th>\n      <th></th>\n      <th></th>\n      <th></th>\n      <th></th>\n      <th></th>\n      <th></th>\n      <th></th>\n      <th></th>\n      <th></th>\n      <th></th>\n      <th></th>\n      <th></th>\n      <th></th>\n      <th></th>\n    </tr>\n  </thead>\n  <tbody>\n    <tr>\n      <th>2023-07-19</th>\n      <td>121.800003</td>\n      <td>125.180000</td>\n      <td>124.599998</td>\n      <td>122.029999</td>\n      <td>37224000.0</td>\n      <td>2.427984</td>\n      <td>36.933985</td>\n      <td>35.055744</td>\n      <td>-81.201063</td>\n      <td>-2.702918</td>\n      <td>...</td>\n      <td>123.480001</td>\n      <td>125.655565</td>\n      <td>3.523751</td>\n      <td>0.166753</td>\n      <td>121.800003</td>\n      <td>127.099998</td>\n      <td>123.490002</td>\n      <td>122.023657</td>\n      <td>127.092154</td>\n      <td>123.847177</td>\n    </tr>\n    <tr>\n      <th>2023-07-20</th>\n      <td>118.220001</td>\n      <td>124.089996</td>\n      <td>121.419998</td>\n      <td>119.199997</td>\n      <td>37906800.0</td>\n      <td>3.705061</td>\n      <td>19.281771</td>\n      <td>42.694503</td>\n      <td>-100.000000</td>\n      <td>-4.372246</td>\n      <td>...</td>\n      <td>121.663333</td>\n      <td>125.422497</td>\n      <td>6.179618</td>\n      <td>0.172356</td>\n      <td>118.220001</td>\n      <td>125.180000</td>\n      <td>121.154999</td>\n      <td>119.206784</td>\n      <td>126.993906</td>\n      <td>121.669975</td>\n    </tr>\n    <tr>\n      <th>2023-07-21</th>\n      <td>118.730003</td>\n      <td>120.989998</td>\n      <td>120.620003</td>\n      <td>120.019997</td>\n      <td>72937900.0</td>\n      <td>2.781381</td>\n      <td>33.165125</td>\n      <td>47.787009</td>\n      <td>-65.831801</td>\n      <td>-3.021982</td>\n      <td>...</td>\n      <td>120.416664</td>\n      <td>122.794471</td>\n      <td>3.949298</td>\n      <td>0.416590</td>\n      <td>118.220001</td>\n      <td>125.180000</td>\n      <td>119.860001</td>\n      <td>119.853145</td>\n      <td>126.942148</td>\n      <td>120.759212</td>\n    </tr>\n    <tr>\n      <th>2023-07-24</th>\n      <td>120.980003</td>\n      <td>123.000000</td>\n      <td>121.660004</td>\n      <td>121.529999</td>\n      <td>29686100.0</td>\n      <td>2.599447</td>\n      <td>54.691052</td>\n      <td>34.207433</td>\n      <td>100.000000</td>\n      <td>-0.409735</td>\n      <td>...</td>\n      <td>120.249997</td>\n      <td>122.180042</td>\n      <td>3.210054</td>\n      <td>0.831599</td>\n      <td>118.220001</td>\n      <td>124.089996</td>\n      <td>121.990002</td>\n      <td>121.470280</td>\n      <td>126.975314</td>\n      <td>121.019978</td>\n    </tr>\n    <tr>\n      <th>2023-07-25</th>\n      <td>121.019997</td>\n      <td>123.150002</td>\n      <td>121.360001</td>\n      <td>122.209999</td>\n      <td>52509600.0</td>\n      <td>2.163945</td>\n      <td>62.787130</td>\n      <td>26.519069</td>\n      <td>60.515651</td>\n      <td>2.525170</td>\n      <td>...</td>\n      <td>121.253332</td>\n      <td>123.083768</td>\n      <td>3.019193</td>\n      <td>0.761322</td>\n      <td>118.730003</td>\n      <td>123.150002</td>\n      <td>122.084999</td>\n      <td>122.262445</td>\n      <td>127.041794</td>\n      <td>121.555730</td>\n    </tr>\n    <tr>\n      <th>2023-07-26</th>\n      <td>128.320007</td>\n      <td>130.979996</td>\n      <td>130.070007</td>\n      <td>129.270004</td>\n      <td>61682100.0</td>\n      <td>4.415005</td>\n      <td>90.162544</td>\n      <td>44.354743</td>\n      <td>100.000000</td>\n      <td>7.707055</td>\n      <td>...</td>\n      <td>124.336667</td>\n      <td>131.335517</td>\n      <td>11.257901</td>\n      <td>0.852439</td>\n      <td>120.980003</td>\n      <td>130.979996</td>\n      <td>129.650002</td>\n      <td>129.069140</td>\n      <td>127.511877</td>\n      <td>125.624413</td>\n    </tr>\n    <tr>\n      <th>2023-07-27</th>\n      <td>128.789993</td>\n      <td>133.240005</td>\n      <td>131.669998</td>\n      <td>129.399994</td>\n      <td>44952100.0</td>\n      <td>3.924764</td>\n      <td>90.358433</td>\n      <td>57.918274</td>\n      <td>59.081239</td>\n      <td>6.475763</td>\n      <td>...</td>\n      <td>126.959999</td>\n      <td>133.678352</td>\n      <td>10.583417</td>\n      <td>0.681592</td>\n      <td>121.019997</td>\n      <td>133.240005</td>\n      <td>131.014999</td>\n      <td>129.672399</td>\n      <td>127.966136</td>\n      <td>128.103488</td>\n    </tr>\n    <tr>\n      <th>2023-07-28</th>\n      <td>130.570007</td>\n      <td>133.740005</td>\n      <td>130.779999</td>\n      <td>132.580002</td>\n      <td>36591200.0</td>\n      <td>3.552065</td>\n      <td>94.429088</td>\n      <td>67.344333</td>\n      <td>100.000000</td>\n      <td>8.485396</td>\n      <td>...</td>\n      <td>130.416667</td>\n      <td>133.477925</td>\n      <td>4.694582</td>\n      <td>0.853341</td>\n      <td>128.320007</td>\n      <td>133.740005</td>\n      <td>132.155006</td>\n      <td>132.551674</td>\n      <td>128.582751</td>\n      <td>131.167374</td>\n    </tr>\n    <tr>\n      <th>2023-07-31</th>\n      <td>131.779999</td>\n      <td>133.529999</td>\n      <td>132.729996</td>\n      <td>132.720001</td>\n      <td>28055500.0</td>\n      <td>2.433442</td>\n      <td>94.580197</td>\n      <td>73.628372</td>\n      <td>64.178874</td>\n      <td>2.668830</td>\n      <td>...</td>\n      <td>131.566666</td>\n      <td>134.632934</td>\n      <td>4.661162</td>\n      <td>0.688068</td>\n      <td>128.789993</td>\n      <td>133.740005</td>\n      <td>132.654999</td>\n      <td>132.818988</td>\n      <td>129.178233</td>\n      <td>132.926914</td>\n    </tr>\n    <tr>\n      <th>2023-08-01</th>\n      <td>130.679993</td>\n      <td>132.630005</td>\n      <td>130.779999</td>\n      <td>131.550003</td>\n      <td>23166800.0</td>\n      <td>2.002916</td>\n      <td>70.580813</td>\n      <td>60.694002</td>\n      <td>-100.000000</td>\n      <td>1.661522</td>\n      <td>...</td>\n      <td>132.283335</td>\n      <td>133.326704</td>\n      <td>1.577476</td>\n      <td>0.148575</td>\n      <td>130.570007</td>\n      <td>133.740005</td>\n      <td>131.654999</td>\n      <td>131.604447</td>\n      <td>129.677020</td>\n      <td>133.172458</td>\n    </tr>\n  </tbody>\n</table>\n<p>10 rows × 26 columns</p>\n</div>"
     },
     "execution_count": 64,
     "metadata": {},
     "output_type": "execute_result"
    }
   ],
   "source": [
    "train_X = train_df[['low', 'high', 'open', 'close', 'volume',\n",
    "                    'NATR_3', 'RSI_3', 'ADX_3', 'CCI_3_0.015',\n",
    "                    'ROC_3', 'STOCHk_14_3_3', 'STOCHd_14_3_3',\n",
    "                    'WILLR_3', 'OBV', 'MACD_12_26_9', 'BBL_3_2.0',\n",
    "                    'BBM_3_2.0', 'BBU_3_2.0', 'BBB_3_2.0',\n",
    "                    'BBP_3_2.0', 'min_price_3', 'max_price_3',\n",
    "                    'mid_price', 'tema_2', 'tema_100', 'tema_8']]\n",
    "\n",
    "train_y = train_df[['Next date']]\n",
    "train_X.head(10)"
   ],
   "metadata": {
    "collapsed": false,
    "ExecuteTime": {
     "end_time": "2023-08-03T08:32:28.984870273Z",
     "start_time": "2023-08-03T08:32:28.960898567Z"
    }
   },
   "id": "83ccc1a91e692294"
  },
  {
   "cell_type": "code",
   "execution_count": 65,
   "outputs": [
    {
     "data": {
      "text/plain": "             Next date\ndate                  \n2023-07-19  119.199997\n2023-07-20  120.019997\n2023-07-21  121.529999\n2023-07-24  122.209999\n2023-07-25  129.270004\n2023-07-26  129.399994\n2023-07-27  132.580002\n2023-07-28  132.720001\n2023-07-31  131.550003\n2023-08-01  128.380005",
      "text/html": "<div>\n<style scoped>\n    .dataframe tbody tr th:only-of-type {\n        vertical-align: middle;\n    }\n\n    .dataframe tbody tr th {\n        vertical-align: top;\n    }\n\n    .dataframe thead th {\n        text-align: right;\n    }\n</style>\n<table border=\"1\" class=\"dataframe\">\n  <thead>\n    <tr style=\"text-align: right;\">\n      <th></th>\n      <th>Next date</th>\n    </tr>\n    <tr>\n      <th>date</th>\n      <th></th>\n    </tr>\n  </thead>\n  <tbody>\n    <tr>\n      <th>2023-07-19</th>\n      <td>119.199997</td>\n    </tr>\n    <tr>\n      <th>2023-07-20</th>\n      <td>120.019997</td>\n    </tr>\n    <tr>\n      <th>2023-07-21</th>\n      <td>121.529999</td>\n    </tr>\n    <tr>\n      <th>2023-07-24</th>\n      <td>122.209999</td>\n    </tr>\n    <tr>\n      <th>2023-07-25</th>\n      <td>129.270004</td>\n    </tr>\n    <tr>\n      <th>2023-07-26</th>\n      <td>129.399994</td>\n    </tr>\n    <tr>\n      <th>2023-07-27</th>\n      <td>132.580002</td>\n    </tr>\n    <tr>\n      <th>2023-07-28</th>\n      <td>132.720001</td>\n    </tr>\n    <tr>\n      <th>2023-07-31</th>\n      <td>131.550003</td>\n    </tr>\n    <tr>\n      <th>2023-08-01</th>\n      <td>128.380005</td>\n    </tr>\n  </tbody>\n</table>\n</div>"
     },
     "execution_count": 65,
     "metadata": {},
     "output_type": "execute_result"
    }
   ],
   "source": [
    "test_X = test_df[['low', 'high', 'open', 'close', 'volume',\n",
    "                  'NATR_3', 'RSI_3', 'ADX_3', 'CCI_3_0.015',\n",
    "                  'ROC_3', 'STOCHk_14_3_3', 'STOCHd_14_3_3',\n",
    "                  'WILLR_3', 'OBV', 'MACD_12_26_9', 'BBL_3_2.0',\n",
    "                  'BBM_3_2.0', 'BBU_3_2.0', 'BBB_3_2.0',\n",
    "                  'BBP_3_2.0', 'min_price_3', 'max_price_3',\n",
    "                  'mid_price', 'tema_2', 'tema_100', 'tema_8']]\n",
    "\n",
    "test_Y = test_df[['Next date']]\n",
    "test_X.head(10)"
   ],
   "metadata": {
    "collapsed": false,
    "ExecuteTime": {
     "end_time": "2023-08-03T08:32:29.658241702Z",
     "start_time": "2023-08-03T08:32:29.641734534Z"
    }
   },
   "id": "e068e6bf077d3244"
  },
  {
   "cell_type": "code",
   "execution_count": 66,
   "outputs": [
    {
     "data": {
      "text/plain": "            0         1         2         3         4         5         6   \\\n2653  1.717035  1.733471  1.757051  1.683713 -0.198835  0.265369 -0.705060   \n2654  1.615093  1.703183  1.667587  1.604119 -0.173063  1.453948 -1.399267   \n2655  1.629616  1.617043  1.645081  1.627182  1.149193  0.594277 -0.853278   \n2656  1.693686  1.672895  1.674340  1.669650 -0.483355  0.424951 -0.006729   \n2657  1.694824  1.677063  1.665900  1.688775  0.378123  0.019627  0.311664   \n2658  1.902696  1.894635  1.910940  1.887337  0.724341  2.114695  1.388255   \n2659  1.916079  1.957434  1.955953  1.890993  0.092864  1.658427  1.395959   \n2660  1.966765  1.971327  1.930914  1.980431 -0.222720  1.311555  1.556045   \n2661  2.001221  1.965492  1.985774  1.984368 -0.544902  0.270449  1.561988   \n2662  1.969897  1.940484  1.930914  1.951462 -0.729427 -0.130243  0.618166   \n\n            7         8         9   ...        16        17        18  \\\n2653 -0.945324 -1.095171 -1.028863  ...  1.726984  1.715149  0.005338   \n2654 -0.499434 -1.326818 -1.606816  ...  1.675853  1.708738  0.927250   \n2655 -0.202174 -0.905785 -1.139329  ...  1.640764  1.636450  0.153055   \n2656 -0.994842  1.137654 -0.234918  ...  1.636073  1.619549 -0.103553   \n2657 -1.443627  0.651114  0.781203  ...  1.664313  1.644407 -0.169805   \n2658 -0.402522  1.137654  2.575272  ...  1.751096  1.871385  2.690037   \n2659  0.389208  0.633438  2.148975  ...  1.824932  1.935828  2.455908   \n2660  0.939427  1.137654  2.844749  ...  1.922223  1.930315  0.411760   \n2661  1.306239  0.696253  0.830941  ...  1.954590  1.962086  0.400159   \n2662  0.551233 -1.326818  0.482191  ...  1.974762  1.926156 -0.670258   \n\n            19        20        21        22        23        24        25  \n2653 -1.340362  1.759398  1.751877  1.725459  1.683526  1.826766  1.734766  \n2654 -1.319399  1.656107  1.699108  1.659778  1.604302  1.824006  1.673536  \n2655 -0.405718  1.656107  1.699108  1.623352  1.622481  1.822552  1.647922  \n2656  1.146838  1.656107  1.669150  1.683266  1.667962  1.823483  1.655256  \n2657  0.883932  1.670822  1.643316  1.685938  1.690242  1.825351  1.670323  \n2658  1.224802  1.735739  1.858514  1.898732  1.881679  1.838557  1.784748  \n2659  0.585659  1.736893  1.920628  1.937128  1.898645  1.851318  1.854467  \n2660  1.228175  1.947514  1.934370  1.969195  1.979624  1.868641  1.940634  \n2661  0.609888  1.961074  1.934370  1.983259  1.987142  1.885369  1.990118  \n2662 -1.408365  2.012431  1.934370  1.955130  1.952984  1.899382  1.997023  \n\n[10 rows x 26 columns]",
      "text/html": "<div>\n<style scoped>\n    .dataframe tbody tr th:only-of-type {\n        vertical-align: middle;\n    }\n\n    .dataframe tbody tr th {\n        vertical-align: top;\n    }\n\n    .dataframe thead th {\n        text-align: right;\n    }\n</style>\n<table border=\"1\" class=\"dataframe\">\n  <thead>\n    <tr style=\"text-align: right;\">\n      <th></th>\n      <th>0</th>\n      <th>1</th>\n      <th>2</th>\n      <th>3</th>\n      <th>4</th>\n      <th>5</th>\n      <th>6</th>\n      <th>7</th>\n      <th>8</th>\n      <th>9</th>\n      <th>...</th>\n      <th>16</th>\n      <th>17</th>\n      <th>18</th>\n      <th>19</th>\n      <th>20</th>\n      <th>21</th>\n      <th>22</th>\n      <th>23</th>\n      <th>24</th>\n      <th>25</th>\n    </tr>\n  </thead>\n  <tbody>\n    <tr>\n      <th>2653</th>\n      <td>1.717035</td>\n      <td>1.733471</td>\n      <td>1.757051</td>\n      <td>1.683713</td>\n      <td>-0.198835</td>\n      <td>0.265369</td>\n      <td>-0.705060</td>\n      <td>-0.945324</td>\n      <td>-1.095171</td>\n      <td>-1.028863</td>\n      <td>...</td>\n      <td>1.726984</td>\n      <td>1.715149</td>\n      <td>0.005338</td>\n      <td>-1.340362</td>\n      <td>1.759398</td>\n      <td>1.751877</td>\n      <td>1.725459</td>\n      <td>1.683526</td>\n      <td>1.826766</td>\n      <td>1.734766</td>\n    </tr>\n    <tr>\n      <th>2654</th>\n      <td>1.615093</td>\n      <td>1.703183</td>\n      <td>1.667587</td>\n      <td>1.604119</td>\n      <td>-0.173063</td>\n      <td>1.453948</td>\n      <td>-1.399267</td>\n      <td>-0.499434</td>\n      <td>-1.326818</td>\n      <td>-1.606816</td>\n      <td>...</td>\n      <td>1.675853</td>\n      <td>1.708738</td>\n      <td>0.927250</td>\n      <td>-1.319399</td>\n      <td>1.656107</td>\n      <td>1.699108</td>\n      <td>1.659778</td>\n      <td>1.604302</td>\n      <td>1.824006</td>\n      <td>1.673536</td>\n    </tr>\n    <tr>\n      <th>2655</th>\n      <td>1.629616</td>\n      <td>1.617043</td>\n      <td>1.645081</td>\n      <td>1.627182</td>\n      <td>1.149193</td>\n      <td>0.594277</td>\n      <td>-0.853278</td>\n      <td>-0.202174</td>\n      <td>-0.905785</td>\n      <td>-1.139329</td>\n      <td>...</td>\n      <td>1.640764</td>\n      <td>1.636450</td>\n      <td>0.153055</td>\n      <td>-0.405718</td>\n      <td>1.656107</td>\n      <td>1.699108</td>\n      <td>1.623352</td>\n      <td>1.622481</td>\n      <td>1.822552</td>\n      <td>1.647922</td>\n    </tr>\n    <tr>\n      <th>2656</th>\n      <td>1.693686</td>\n      <td>1.672895</td>\n      <td>1.674340</td>\n      <td>1.669650</td>\n      <td>-0.483355</td>\n      <td>0.424951</td>\n      <td>-0.006729</td>\n      <td>-0.994842</td>\n      <td>1.137654</td>\n      <td>-0.234918</td>\n      <td>...</td>\n      <td>1.636073</td>\n      <td>1.619549</td>\n      <td>-0.103553</td>\n      <td>1.146838</td>\n      <td>1.656107</td>\n      <td>1.669150</td>\n      <td>1.683266</td>\n      <td>1.667962</td>\n      <td>1.823483</td>\n      <td>1.655256</td>\n    </tr>\n    <tr>\n      <th>2657</th>\n      <td>1.694824</td>\n      <td>1.677063</td>\n      <td>1.665900</td>\n      <td>1.688775</td>\n      <td>0.378123</td>\n      <td>0.019627</td>\n      <td>0.311664</td>\n      <td>-1.443627</td>\n      <td>0.651114</td>\n      <td>0.781203</td>\n      <td>...</td>\n      <td>1.664313</td>\n      <td>1.644407</td>\n      <td>-0.169805</td>\n      <td>0.883932</td>\n      <td>1.670822</td>\n      <td>1.643316</td>\n      <td>1.685938</td>\n      <td>1.690242</td>\n      <td>1.825351</td>\n      <td>1.670323</td>\n    </tr>\n    <tr>\n      <th>2658</th>\n      <td>1.902696</td>\n      <td>1.894635</td>\n      <td>1.910940</td>\n      <td>1.887337</td>\n      <td>0.724341</td>\n      <td>2.114695</td>\n      <td>1.388255</td>\n      <td>-0.402522</td>\n      <td>1.137654</td>\n      <td>2.575272</td>\n      <td>...</td>\n      <td>1.751096</td>\n      <td>1.871385</td>\n      <td>2.690037</td>\n      <td>1.224802</td>\n      <td>1.735739</td>\n      <td>1.858514</td>\n      <td>1.898732</td>\n      <td>1.881679</td>\n      <td>1.838557</td>\n      <td>1.784748</td>\n    </tr>\n    <tr>\n      <th>2659</th>\n      <td>1.916079</td>\n      <td>1.957434</td>\n      <td>1.955953</td>\n      <td>1.890993</td>\n      <td>0.092864</td>\n      <td>1.658427</td>\n      <td>1.395959</td>\n      <td>0.389208</td>\n      <td>0.633438</td>\n      <td>2.148975</td>\n      <td>...</td>\n      <td>1.824932</td>\n      <td>1.935828</td>\n      <td>2.455908</td>\n      <td>0.585659</td>\n      <td>1.736893</td>\n      <td>1.920628</td>\n      <td>1.937128</td>\n      <td>1.898645</td>\n      <td>1.851318</td>\n      <td>1.854467</td>\n    </tr>\n    <tr>\n      <th>2660</th>\n      <td>1.966765</td>\n      <td>1.971327</td>\n      <td>1.930914</td>\n      <td>1.980431</td>\n      <td>-0.222720</td>\n      <td>1.311555</td>\n      <td>1.556045</td>\n      <td>0.939427</td>\n      <td>1.137654</td>\n      <td>2.844749</td>\n      <td>...</td>\n      <td>1.922223</td>\n      <td>1.930315</td>\n      <td>0.411760</td>\n      <td>1.228175</td>\n      <td>1.947514</td>\n      <td>1.934370</td>\n      <td>1.969195</td>\n      <td>1.979624</td>\n      <td>1.868641</td>\n      <td>1.940634</td>\n    </tr>\n    <tr>\n      <th>2661</th>\n      <td>2.001221</td>\n      <td>1.965492</td>\n      <td>1.985774</td>\n      <td>1.984368</td>\n      <td>-0.544902</td>\n      <td>0.270449</td>\n      <td>1.561988</td>\n      <td>1.306239</td>\n      <td>0.696253</td>\n      <td>0.830941</td>\n      <td>...</td>\n      <td>1.954590</td>\n      <td>1.962086</td>\n      <td>0.400159</td>\n      <td>0.609888</td>\n      <td>1.961074</td>\n      <td>1.934370</td>\n      <td>1.983259</td>\n      <td>1.987142</td>\n      <td>1.885369</td>\n      <td>1.990118</td>\n    </tr>\n    <tr>\n      <th>2662</th>\n      <td>1.969897</td>\n      <td>1.940484</td>\n      <td>1.930914</td>\n      <td>1.951462</td>\n      <td>-0.729427</td>\n      <td>-0.130243</td>\n      <td>0.618166</td>\n      <td>0.551233</td>\n      <td>-1.326818</td>\n      <td>0.482191</td>\n      <td>...</td>\n      <td>1.974762</td>\n      <td>1.926156</td>\n      <td>-0.670258</td>\n      <td>-1.408365</td>\n      <td>2.012431</td>\n      <td>1.934370</td>\n      <td>1.955130</td>\n      <td>1.952984</td>\n      <td>1.899382</td>\n      <td>1.997023</td>\n    </tr>\n  </tbody>\n</table>\n<p>10 rows × 26 columns</p>\n</div>"
     },
     "execution_count": 66,
     "metadata": {},
     "output_type": "execute_result"
    }
   ],
   "source": [
    "from sklearn.preprocessing import StandardScaler, MinMaxScaler\n",
    "\n",
    "scaler_training_set = StandardScaler()\n",
    "scaler_training_set_fit = scaler_training_set.fit(train_X)\n",
    "scaler_training_set = scaler_training_set_fit.transform(train_X)\n",
    "scaler_training_set = pd.DataFrame(scaler_training_set)\n",
    "train_X = scaler_training_set\n",
    "\n",
    "# scaler_test_set = StandardScaler()\n",
    "# scaler_test_set_fit = scaler_test_set.fit(test_X)\n",
    "scaler_test_set = scaler_training_set_fit.transform(test_X)\n",
    "scaler_test_set = pd.DataFrame(scaler_test_set)\n",
    "test_X = scaler_test_set\n",
    "\n",
    "train_X.tail(10)"
   ],
   "metadata": {
    "collapsed": false,
    "ExecuteTime": {
     "end_time": "2023-08-03T08:32:30.278301312Z",
     "start_time": "2023-08-03T08:32:30.225002455Z"
    }
   },
   "id": "a9c4e639180935ac"
  },
  {
   "cell_type": "code",
   "execution_count": 67,
   "outputs": [
    {
     "data": {
      "text/plain": "             Next date\ndate                  \n2023-07-19  119.199997\n2023-07-20  120.019997\n2023-07-21  121.529999\n2023-07-24  122.209999\n2023-07-25  129.270004\n2023-07-26  129.399994\n2023-07-27  132.580002\n2023-07-28  132.720001\n2023-07-31  131.550003\n2023-08-01  128.380005",
      "text/html": "<div>\n<style scoped>\n    .dataframe tbody tr th:only-of-type {\n        vertical-align: middle;\n    }\n\n    .dataframe tbody tr th {\n        vertical-align: top;\n    }\n\n    .dataframe thead th {\n        text-align: right;\n    }\n</style>\n<table border=\"1\" class=\"dataframe\">\n  <thead>\n    <tr style=\"text-align: right;\">\n      <th></th>\n      <th>Next date</th>\n    </tr>\n    <tr>\n      <th>date</th>\n      <th></th>\n    </tr>\n  </thead>\n  <tbody>\n    <tr>\n      <th>2023-07-19</th>\n      <td>119.199997</td>\n    </tr>\n    <tr>\n      <th>2023-07-20</th>\n      <td>120.019997</td>\n    </tr>\n    <tr>\n      <th>2023-07-21</th>\n      <td>121.529999</td>\n    </tr>\n    <tr>\n      <th>2023-07-24</th>\n      <td>122.209999</td>\n    </tr>\n    <tr>\n      <th>2023-07-25</th>\n      <td>129.270004</td>\n    </tr>\n    <tr>\n      <th>2023-07-26</th>\n      <td>129.399994</td>\n    </tr>\n    <tr>\n      <th>2023-07-27</th>\n      <td>132.580002</td>\n    </tr>\n    <tr>\n      <th>2023-07-28</th>\n      <td>132.720001</td>\n    </tr>\n    <tr>\n      <th>2023-07-31</th>\n      <td>131.550003</td>\n    </tr>\n    <tr>\n      <th>2023-08-01</th>\n      <td>128.380005</td>\n    </tr>\n  </tbody>\n</table>\n</div>"
     },
     "execution_count": 67,
     "metadata": {},
     "output_type": "execute_result"
    }
   ],
   "source": [
    "#Scaling the target feature\n",
    "scaler_output_training_set = StandardScaler()\n",
    "scaler_output_training_set_fit = scaler_output_training_set.fit(train_y)\n",
    "scaler_output_training_set = scaler_output_training_set_fit.transform(train_y)\n",
    "scaler_output_training_set = pd.DataFrame(scaler_output_training_set)\n",
    "train_y = scaler_output_training_set\n",
    "\n",
    "# scaler_output_test_set =  StandardScaler()\n",
    "# scaler_output_test_set_fit = scaler_output_test_set.fit(test_Y)\n",
    "scaler_output_test_set = scaler_output_training_set_fit.transform(test_Y)\n",
    "scaler_output_test_set = pd.DataFrame(scaler_output_test_set)\n",
    "test_Y = scaler_output_test_set\n",
    "\n",
    "train_y.tail(10)"
   ],
   "metadata": {
    "collapsed": false,
    "ExecuteTime": {
     "end_time": "2023-08-03T08:32:30.795338112Z",
     "start_time": "2023-08-03T08:32:30.746939105Z"
    }
   },
   "id": "da1278cd49aac685"
  },
  {
   "cell_type": "code",
   "execution_count": 68,
   "outputs": [
    {
     "data": {
      "text/plain": "                open      high       low     close    volume    NATR_3  \\\ndate                                                                     \n2013-01-02 -1.240664 -1.239367 -1.241850 -1.239328  2.229175  0.009918   \n2013-01-03 -1.237693 -1.235939 -1.237970 -1.239033  1.892674 -0.271951   \n2013-01-04 -1.232733 -1.229305 -1.234866 -1.228968  2.564319 -0.027405   \n\n               RSI_3     ADX_3  CCI_3_0.015     ROC_3  ...  BBM_3_2.0  \\\ndate                                                   ...              \n2013-01-02  1.011809  0.467495     1.137654  0.738307  ...  -1.248224   \n2013-01-03  1.029548  0.516478     0.674255  1.077142  ...  -1.242669   \n2013-01-04  1.434178  0.857572     1.137654  1.404136  ...  -1.235487   \n\n            BBU_3_2.0  BBB_3_2.0  BBP_3_2.0  min_price_3  max_price_3  \\\ndate                                                                    \n2013-01-02  -1.238980   0.677936   1.163690    -1.252262    -1.241300   \n2013-01-03  -1.236462   0.248213   0.593383    -1.252262    -1.237910   \n2013-01-04  -1.230462   0.086633   1.228555    -1.237424    -1.231348   \n\n            mid_price    tema_2  tema_100    tema_8  \ndate                                                 \n2013-01-02  -1.240084 -1.239576 -1.243984 -1.246333  \n2013-01-03  -1.236881 -1.238536 -1.243120 -1.242333  \n2013-01-04  -1.231074 -1.229165 -1.241711 -1.234678  \n\n[3 rows x 26 columns]",
      "text/html": "<div>\n<style scoped>\n    .dataframe tbody tr th:only-of-type {\n        vertical-align: middle;\n    }\n\n    .dataframe tbody tr th {\n        vertical-align: top;\n    }\n\n    .dataframe thead th {\n        text-align: right;\n    }\n</style>\n<table border=\"1\" class=\"dataframe\">\n  <thead>\n    <tr style=\"text-align: right;\">\n      <th></th>\n      <th>open</th>\n      <th>high</th>\n      <th>low</th>\n      <th>close</th>\n      <th>volume</th>\n      <th>NATR_3</th>\n      <th>RSI_3</th>\n      <th>ADX_3</th>\n      <th>CCI_3_0.015</th>\n      <th>ROC_3</th>\n      <th>...</th>\n      <th>BBM_3_2.0</th>\n      <th>BBU_3_2.0</th>\n      <th>BBB_3_2.0</th>\n      <th>BBP_3_2.0</th>\n      <th>min_price_3</th>\n      <th>max_price_3</th>\n      <th>mid_price</th>\n      <th>tema_2</th>\n      <th>tema_100</th>\n      <th>tema_8</th>\n    </tr>\n    <tr>\n      <th>date</th>\n      <th></th>\n      <th></th>\n      <th></th>\n      <th></th>\n      <th></th>\n      <th></th>\n      <th></th>\n      <th></th>\n      <th></th>\n      <th></th>\n      <th></th>\n      <th></th>\n      <th></th>\n      <th></th>\n      <th></th>\n      <th></th>\n      <th></th>\n      <th></th>\n      <th></th>\n      <th></th>\n      <th></th>\n    </tr>\n  </thead>\n  <tbody>\n    <tr>\n      <th>2013-01-02</th>\n      <td>-1.240664</td>\n      <td>-1.239367</td>\n      <td>-1.241850</td>\n      <td>-1.239328</td>\n      <td>2.229175</td>\n      <td>0.009918</td>\n      <td>1.011809</td>\n      <td>0.467495</td>\n      <td>1.137654</td>\n      <td>0.738307</td>\n      <td>...</td>\n      <td>-1.248224</td>\n      <td>-1.238980</td>\n      <td>0.677936</td>\n      <td>1.163690</td>\n      <td>-1.252262</td>\n      <td>-1.241300</td>\n      <td>-1.240084</td>\n      <td>-1.239576</td>\n      <td>-1.243984</td>\n      <td>-1.246333</td>\n    </tr>\n    <tr>\n      <th>2013-01-03</th>\n      <td>-1.237693</td>\n      <td>-1.235939</td>\n      <td>-1.237970</td>\n      <td>-1.239033</td>\n      <td>1.892674</td>\n      <td>-0.271951</td>\n      <td>1.029548</td>\n      <td>0.516478</td>\n      <td>0.674255</td>\n      <td>1.077142</td>\n      <td>...</td>\n      <td>-1.242669</td>\n      <td>-1.236462</td>\n      <td>0.248213</td>\n      <td>0.593383</td>\n      <td>-1.252262</td>\n      <td>-1.237910</td>\n      <td>-1.236881</td>\n      <td>-1.238536</td>\n      <td>-1.243120</td>\n      <td>-1.242333</td>\n    </tr>\n    <tr>\n      <th>2013-01-04</th>\n      <td>-1.232733</td>\n      <td>-1.229305</td>\n      <td>-1.234866</td>\n      <td>-1.228968</td>\n      <td>2.564319</td>\n      <td>-0.027405</td>\n      <td>1.434178</td>\n      <td>0.857572</td>\n      <td>1.137654</td>\n      <td>1.404136</td>\n      <td>...</td>\n      <td>-1.235487</td>\n      <td>-1.230462</td>\n      <td>0.086633</td>\n      <td>1.228555</td>\n      <td>-1.237424</td>\n      <td>-1.231348</td>\n      <td>-1.231074</td>\n      <td>-1.229165</td>\n      <td>-1.241711</td>\n      <td>-1.234678</td>\n    </tr>\n  </tbody>\n</table>\n<p>3 rows × 26 columns</p>\n</div>"
     },
     "execution_count": 68,
     "metadata": {},
     "output_type": "execute_result"
    }
   ],
   "source": [
    "#rename X\n",
    "\n",
    "train_X.rename(columns={0: 'open', 1: 'high', 2: 'low', 3: 'close', 4: 'volume', 5: 'NATR_3', 6: 'RSI_3', 7: 'ADX_3',\n",
    "                        8: 'CCI_3_.015',\n",
    "                        9: 'ROC_3', 10: 'STOCHk_14_3_3', 11: 'STOCHd_14_3_3', 12: 'WILLR_3', 13: 'OBV',\n",
    "                        14: 'MACD_12_26_9',\n",
    "                        15: 'BBL_3_2.0', 16: 'BBM_3_2.0', 17: 'BBU_3_2.0', 18: 'BBB_3_2.0', 19: 'BBP_3_2.0',\n",
    "                        20: 'min_price_3',\n",
    "                        21: 'max_price_3', 22: 'mid_price', 23: 'tema_2', 24: 'tema_100', 25: 'tema_8'}, inplace=True)\n",
    "\n",
    "test_X.rename(columns={0: 'open', 1: 'high', 2: 'low', 3: 'close', 4: 'volume', 5: 'NATR_3', 6: 'RSI_3', 7: 'ADX_3',\n",
    "                       8: 'CCI_3_.015',\n",
    "                       9: 'ROC_3', 10: 'STOCHk_14_3_3', 11: 'STOCHd_14_3_3', 12: 'WILLR_3', 13: 'OBV',\n",
    "                       14: 'MACD_12_26_9',\n",
    "                       15: 'BBL_3_2.0', 16: 'BBM_3_2.0', 17: 'BBU_3_2.0', 18: 'BBB_3_2.0', 19: 'BBP_3_2.0',\n",
    "                       20: 'min_price_3',\n",
    "                       21: 'max_price_3', 22: 'mid_price', 23: 'tema_2', 24: 'tema_100', 25: 'tema_8'}, inplace=True)\n",
    "\n",
    "train_X.index = train_df.index\n",
    "test_X.index = test_df.index\n",
    "\n",
    "train_X.head(3)"
   ],
   "metadata": {
    "collapsed": false,
    "ExecuteTime": {
     "end_time": "2023-08-03T08:32:31.530617719Z",
     "start_time": "2023-08-03T08:32:31.517844862Z"
    }
   },
   "id": "8553411a34dea19d"
  },
  {
   "cell_type": "code",
   "execution_count": 69,
   "outputs": [
    {
     "data": {
      "text/plain": "            Next date\ndate                 \n2013-01-02  18.109859\n2013-01-03  18.467718\n2013-01-04  18.387136",
      "text/html": "<div>\n<style scoped>\n    .dataframe tbody tr th:only-of-type {\n        vertical-align: middle;\n    }\n\n    .dataframe tbody tr th {\n        vertical-align: top;\n    }\n\n    .dataframe thead th {\n        text-align: right;\n    }\n</style>\n<table border=\"1\" class=\"dataframe\">\n  <thead>\n    <tr style=\"text-align: right;\">\n      <th></th>\n      <th>Next date</th>\n    </tr>\n    <tr>\n      <th>date</th>\n      <th></th>\n    </tr>\n  </thead>\n  <tbody>\n    <tr>\n      <th>2013-01-02</th>\n      <td>18.109859</td>\n    </tr>\n    <tr>\n      <th>2013-01-03</th>\n      <td>18.467718</td>\n    </tr>\n    <tr>\n      <th>2013-01-04</th>\n      <td>18.387136</td>\n    </tr>\n  </tbody>\n</table>\n</div>"
     },
     "execution_count": 69,
     "metadata": {},
     "output_type": "execute_result"
    }
   ],
   "source": [
    "#rename Y\n",
    "\n",
    "train_y.rename(columns={0: 'Next date'}, inplace=True)\n",
    "test_Y.rename(columns={0: 'Next date'}, inplace=True)\n",
    "\n",
    "train_y.index = train_df.index\n",
    "test_Y.index = test_df.index\n",
    "\n",
    "train_y.head(3)"
   ],
   "metadata": {
    "collapsed": false,
    "ExecuteTime": {
     "end_time": "2023-08-03T08:32:34.642139841Z",
     "start_time": "2023-08-03T08:32:34.622067975Z"
    }
   },
   "id": "939ec8eb6ce81c9"
  },
  {
   "cell_type": "code",
   "execution_count": 70,
   "outputs": [
    {
     "data": {
      "text/plain": "Index(['open', 'high', 'low', 'close', 'volume', 'NATR_3', 'RSI_3', 'ADX_3',\n       'CCI_3_0.015', 'ROC_3', 'STOCHk_14_3_3', 'STOCHd_14_3_3', 'WILLR_3',\n       'OBV', 'MACD_12_26_9', 'BBL_3_2.0', 'BBM_3_2.0', 'BBU_3_2.0',\n       'BBB_3_2.0', 'BBP_3_2.0', 'min_price_3', 'max_price_3', 'mid_price',\n       'tema_2', 'tema_100', 'tema_8'],\n      dtype='object')"
     },
     "execution_count": 70,
     "metadata": {},
     "output_type": "execute_result"
    }
   ],
   "source": [
    "train_X.columns"
   ],
   "metadata": {
    "collapsed": false,
    "ExecuteTime": {
     "end_time": "2023-08-03T08:32:35.135417960Z",
     "start_time": "2023-08-03T08:32:35.131034168Z"
    }
   },
   "id": "7ffe801813a7bf6d"
  },
  {
   "cell_type": "code",
   "execution_count": 71,
   "outputs": [
    {
     "data": {
      "text/plain": "Index(['open', 'high', 'low', 'close', 'volume', 'NATR_3', 'RSI_3', 'ADX_3',\n       'CCI_3_0.015', 'ROC_3', 'STOCHk_14_3_3', 'STOCHd_14_3_3', 'WILLR_3',\n       'OBV', 'MACD_12_26_9', 'BBL_3_2.0', 'BBM_3_2.0', 'BBU_3_2.0',\n       'BBB_3_2.0', 'BBP_3_2.0', 'min_price_3', 'max_price_3', 'mid_price',\n       'tema_8'],\n      dtype='object')"
     },
     "execution_count": 71,
     "metadata": {},
     "output_type": "execute_result"
    }
   ],
   "source": [
    "#Get only tema_8 from train_X, test_X\n",
    "\n",
    "train_X_with_tema_8 = train_X.drop(['tema_2', 'tema_100'], axis=1)\n",
    "test_X_with_tema_8 = test_X.drop(['tema_2', 'tema_100'], axis=1)\n",
    "\n",
    "train_X_with_tema_8.columns"
   ],
   "metadata": {
    "collapsed": false,
    "ExecuteTime": {
     "end_time": "2023-08-03T08:32:35.636681963Z",
     "start_time": "2023-08-03T08:32:35.630808311Z"
    }
   },
   "id": "d713ef873dba727a"
  },
  {
   "cell_type": "code",
   "execution_count": 72,
   "outputs": [],
   "source": [
    "from sklearn.metrics import mean_squared_error\n",
    "\n",
    "\n",
    "def calculate_mape(y_true, y_pred):\n",
    "    return np.mean(np.abs((y_true - y_pred) / y_true)) * 100\n",
    "\n",
    "\n",
    "def calculate_rmse(y_true, y_pred):\n",
    "    return np.sqrt(mean_squared_error(y_true, y_pred))"
   ],
   "metadata": {
    "collapsed": false,
    "ExecuteTime": {
     "end_time": "2023-08-03T08:32:36.243314993Z",
     "start_time": "2023-08-03T08:32:36.201102710Z"
    }
   },
   "id": "dc8c4458aeec792a"
  },
  {
   "cell_type": "code",
   "execution_count": 73,
   "outputs": [],
   "source": [
    "test_X_with_tema_8"
   ],
   "metadata": {
    "collapsed": false,
    "ExecuteTime": {
     "end_time": "2023-08-03T08:32:36.861731889Z",
     "start_time": "2023-08-03T08:32:36.855079678Z"
    }
   },
   "id": "e2582cf720456f62"
  },
  {
   "cell_type": "code",
   "execution_count": 74,
   "outputs": [],
   "source": [
    "from sklearn.exceptions import ConvergenceWarning,DataConversionWarning\n",
    "\n",
    "# Filter out DataConversionWarning\n",
    "warnings.filterwarnings(\"ignore\", category=DataConversionWarning)\n",
    "\n",
    "# Filter out ConvergenceWarning\n",
    "warnings.filterwarnings(\"ignore\", category=ConvergenceWarning)"
   ],
   "metadata": {
    "collapsed": false,
    "ExecuteTime": {
     "end_time": "2023-08-03T08:32:37.259320812Z",
     "start_time": "2023-08-03T08:32:37.250462577Z"
    }
   },
   "id": "f4a218656285f5eb"
  },
  {
   "cell_type": "code",
   "execution_count": 75,
   "outputs": [],
   "source": [
    "from sklearn.svm import SVR\n",
    "\n",
    "svr =SVR(C=1, kernel= 'linear', max_iter= 5000)"
   ],
   "metadata": {
    "collapsed": false,
    "ExecuteTime": {
     "end_time": "2023-08-03T08:32:37.926709258Z",
     "start_time": "2023-08-03T08:32:37.682730044Z"
    }
   },
   "id": "a96c8612c72e76fd"
  },
  {
   "cell_type": "code",
   "execution_count": 76,
   "outputs": [],
   "source": [
    "#Fit the model\n",
    "\n",
    "svm_model = svr.fit(train_X_with_tema_8, train_y)\n",
    "forecast = svm_model.predict(test_X_with_tema_8)"
   ],
   "metadata": {
    "collapsed": false,
    "ExecuteTime": {
     "end_time": "2023-08-03T08:32:38.897304943Z",
     "start_time": "2023-08-03T08:32:38.891191822Z"
    }
   },
   "id": "4ff3e6ccad292f05"
  },
  {
   "cell_type": "code",
   "execution_count": 77,
   "outputs": [],
   "source": [
    "\n",
    "#Plotting the forecasted values\n",
    "forecast_apple_with_tema_2 = pd.DataFrame(forecast)\n",
    "forecast_apple_with_tema_2.rename(columns={0: 'predicted_mean'}, inplace=True)\n",
    "forecast_apple_with_tema_2.reset_index(drop=True, inplace=True)\n",
    "forecast_apple_with_tema_2.index = test_Y.index\n",
    "forecast_apple_with_tema_2[\"Actual\"] = test_Y\n",
    "forecast_apple_with_tema_2.head(10)"
   ],
   "metadata": {
    "collapsed": false,
    "ExecuteTime": {
     "end_time": "2023-08-03T08:32:39.428713449Z",
     "start_time": "2023-08-03T08:32:39.420246679Z"
    }
   },
   "id": "60b842c402dfd92d"
  },
  {
   "cell_type": "code",
   "execution_count": 78,
   "outputs": [],
   "source": [
    "# # #reverse scale the data to the original form\n",
    "# \n",
    "forecast_apple_with_tema_2[\"predicted_mean\"] = (scaler_output_training_set_fit.inverse_transform\n",
    "                                                (forecast_apple_with_tema_2[[\"predicted_mean\"]]))\n",
    "forecast_apple_with_tema_2[\"Actual\"] = (scaler_output_training_set_fit.inverse_transform\n",
    "                                        (forecast_apple_with_tema_2[[\"Actual\"]]))"
   ],
   "metadata": {
    "collapsed": false,
    "ExecuteTime": {
     "end_time": "2023-08-03T08:32:39.706684892Z",
     "start_time": "2023-08-03T08:32:39.702554739Z"
    }
   },
   "id": "9830ff5ae00b0127"
  },
  {
   "cell_type": "code",
   "execution_count": 79,
   "outputs": [],
   "source": [
    "forecast_apple_with_tema_2[\"predicted_mean\"].plot(legend=True)\n",
    "forecast_apple_with_tema_2[\"Actual\"].plot(legend=True)"
   ],
   "metadata": {
    "collapsed": false,
    "ExecuteTime": {
     "end_time": "2023-08-03T08:32:40.058936223Z",
     "start_time": "2023-08-03T08:32:40.054661691Z"
    }
   },
   "id": "3a1d7acf1779854f"
  },
  {
   "cell_type": "code",
   "execution_count": 80,
   "outputs": [
    {
     "data": {
      "text/plain": "['/mnt/learning/last_project/app/server/stock_server/crawl_stock_data/training/checkpoint/svm/svr_google_tema_8_13-23.pkl']"
     },
     "execution_count": 80,
     "metadata": {},
     "output_type": "execute_result"
    }
   ],
   "source": [
    "\n",
    "from statsmodels.tools.eval_measures import rmse\n",
    "from sklearn.metrics import mean_absolute_percentage_error\n",
    "\n",
    "error = calculate_rmse(forecast_apple_with_tema_2[\"predicted_mean\"], forecast_apple_with_tema_2[\"Actual\"])\n",
    "print(\"The root mean squared error is {}.\".format(error))\n",
    "\n",
    "##calculate the mean absolute percentage error\n",
    "\n",
    "mape = calculate_mape(forecast_apple_with_tema_2[\"Actual\"],\n",
    "                      forecast_apple_with_tema_2[\"predicted_mean\"])\n",
    "print(\"The mean absolute percentage error is {}.\".format(mape))"
   ],
   "metadata": {
    "collapsed": false,
    "ExecuteTime": {
     "end_time": "2023-08-03T08:32:40.596675964Z",
     "start_time": "2023-08-03T08:32:40.581825279Z"
    }
   },
   "id": "89ed3b660a3fa7d0"
  },
  {
   "cell_type": "code",
   "execution_count": null,
   "outputs": [],
   "source": [
    "joblib.dump(svr, '/mnt/learning/last_project/fetch_data_stock/trainning_model/svr_google_tema_8.pkl')\n"
   ],
   "metadata": {
    "collapsed": false
   },
   "id": "db68d32fac10ca6c"
  }
 ],
 "metadata": {
  "kernelspec": {
   "display_name": "Python 3",
   "language": "python",
   "name": "python3"
  },
  "language_info": {
   "codemirror_mode": {
    "name": "ipython",
    "version": 2
   },
   "file_extension": ".py",
   "mimetype": "text/x-python",
   "name": "python",
   "nbconvert_exporter": "python",
   "pygments_lexer": "ipython2",
   "version": "2.7.6"
  }
 },
 "nbformat": 4,
 "nbformat_minor": 5
}
